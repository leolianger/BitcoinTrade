{
 "cells": [
  {
   "cell_type": "code",
   "execution_count": 1,
   "metadata": {
    "ExecuteTime": {
     "end_time": "2017-12-30T22:19:39.360397",
     "start_time": "2017-12-30T22:19:39.357332"
    },
    "collapsed": true
   },
   "outputs": [],
   "source": [
    "S='asss'"
   ]
  },
  {
   "cell_type": "code",
   "execution_count": 3,
   "metadata": {
    "ExecuteTime": {
     "end_time": "2017-12-30T22:19:57.640215",
     "start_time": "2017-12-30T22:19:57.613632"
    },
    "collapsed": false
   },
   "outputs": [
    {
     "data": {
      "text/plain": [
       "b'asss'"
      ]
     },
     "execution_count": 3,
     "metadata": {},
     "output_type": "execute_result"
    }
   ],
   "source": [
    "bytes(S,encoding='utf8')"
   ]
  },
  {
   "cell_type": "code",
   "execution_count": 1,
   "metadata": {
    "ExecuteTime": {
     "end_time": "2017-12-31T23:49:51.507386",
     "start_time": "2017-12-31T23:49:51.481628"
    },
    "collapsed": true
   },
   "outputs": [],
   "source": [
    "#!/usr/bin/env python\n",
    "\n",
    "import asyncio\n",
    "import websockets"
   ]
  },
  {
   "cell_type": "code",
   "execution_count": 2,
   "metadata": {
    "ExecuteTime": {
     "end_time": "2017-12-31T23:50:03.423518",
     "start_time": "2017-12-31T23:50:03.417005"
    },
    "collapsed": true
   },
   "outputs": [],
   "source": [
    "ws = websockets.connect(\"wss://real.okex.com:10441/websocket\")"
   ]
  },
  {
   "cell_type": "code",
   "execution_count": 5,
   "metadata": {
    "ExecuteTime": {
     "end_time": "2017-12-31T23:50:25.733543",
     "start_time": "2017-12-31T23:50:25.727688"
    },
    "collapsed": false
   },
   "outputs": [
    {
     "data": {
      "text/plain": [
       "<websockets.client.Connect at 0x7f111c1c4f28>"
      ]
     },
     "execution_count": 5,
     "metadata": {},
     "output_type": "execute_result"
    }
   ],
   "source": [
    "await ws."
   ]
  },
  {
   "cell_type": "code",
   "execution_count": 7,
   "metadata": {
    "ExecuteTime": {
     "end_time": "2018-01-01T00:23:18.070590",
     "start_time": "2018-01-01T00:23:18.067022"
    },
    "collapsed": true
   },
   "outputs": [],
   "source": [
    "async def time(websocket, path):\n",
    "    while True:\n",
    "        now = datetime.datetime.utcnow().isoformat() + 'Z'\n",
    "        await websocket.send(now)\n",
    "        await asyncio.sleep(random.random() * 3)"
   ]
  },
  {
   "cell_type": "code",
   "execution_count": 8,
   "metadata": {
    "ExecuteTime": {
     "end_time": "2018-01-01T00:23:18.832178",
     "start_time": "2018-01-01T00:23:18.826595"
    },
    "collapsed": false
   },
   "outputs": [],
   "source": [
    "start_server = websockets.serve(time, '127.0.0.1', 5678)"
   ]
  },
  {
   "cell_type": "code",
   "execution_count": 12,
   "metadata": {
    "ExecuteTime": {
     "end_time": "2018-01-01T00:51:35.383510",
     "start_time": "2018-01-01T00:51:35.377992"
    },
    "collapsed": false
   },
   "outputs": [
    {
     "ename": "TypeError",
     "evalue": "run_until_complete() missing 1 required positional argument: 'future'",
     "output_type": "error",
     "traceback": [
      "\u001b[0;31m---------------------------------------------------------------------------\u001b[0m",
      "\u001b[0;31mTypeError\u001b[0m                                 Traceback (most recent call last)",
      "\u001b[0;32m<ipython-input-12-e4c0ff3d1c97>\u001b[0m in \u001b[0;36m<module>\u001b[0;34m()\u001b[0m\n\u001b[1;32m      1\u001b[0m \u001b[0mXXX\u001b[0m\u001b[0;34m=\u001b[0m\u001b[0masyncio\u001b[0m\u001b[0;34m.\u001b[0m\u001b[0mget_event_loop\u001b[0m\u001b[0;34m(\u001b[0m\u001b[0;34m)\u001b[0m\u001b[0;34m\u001b[0m\u001b[0m\n\u001b[0;32m----> 2\u001b[0;31m \u001b[0mXXX\u001b[0m\u001b[0;34m.\u001b[0m\u001b[0mrun_until_complete\u001b[0m\u001b[0;34m(\u001b[0m\u001b[0;34m)\u001b[0m\u001b[0;34m\u001b[0m\u001b[0m\n\u001b[0m",
      "\u001b[0;31mTypeError\u001b[0m: run_until_complete() missing 1 required positional argument: 'future'"
     ]
    }
   ],
   "source": [
    "XXX=asyncio.get_event_loop()\n",
    "XXX.run_until_complete()"
   ]
  },
  {
   "cell_type": "code",
   "execution_count": 14,
   "metadata": {
    "ExecuteTime": {
     "end_time": "2018-01-01T00:55:30.430201",
     "start_time": "2018-01-01T00:55:30.427686"
    },
    "collapsed": true
   },
   "outputs": [],
   "source": [
    "import json"
   ]
  },
  {
   "cell_type": "code",
   "execution_count": 32,
   "metadata": {
    "ExecuteTime": {
     "end_time": "2018-01-01T01:02:34.171198",
     "start_time": "2018-01-01T01:02:34.159000"
    },
    "collapsed": false
   },
   "outputs": [
    {
     "data": {
      "text/plain": [
       "[{'binary': 0, 'channel': 'ok_sub_spot_etc_btc_depth_5'}, {'3444': 'sdddd'}]"
      ]
     },
     "execution_count": 32,
     "metadata": {},
     "output_type": "execute_result"
    }
   ],
   "source": [
    "json.loads('[{\"binary\":0,\"channel\":\"ok_sub_spot_etc_btc_depth_5\"},{\"3444\":\"sdddd\"}]')"
   ]
  },
  {
   "cell_type": "code",
   "execution_count": 34,
   "metadata": {
    "ExecuteTime": {
     "end_time": "2018-01-01T01:03:13.611868",
     "start_time": "2018-01-01T01:03:13.603510"
    },
    "collapsed": false
   },
   "outputs": [
    {
     "data": {
      "text/plain": [
       "[{'dd': 's3s'}]"
      ]
     },
     "execution_count": 34,
     "metadata": {},
     "output_type": "execute_result"
    }
   ],
   "source": [
    "json.loads('[{\"dd\":\"s3s\"}]')"
   ]
  },
  {
   "cell_type": "code",
   "execution_count": 13,
   "metadata": {
    "ExecuteTime": {
     "end_time": "2018-01-01T00:51:56.521185",
     "start_time": "2018-01-01T00:51:56.510002"
    },
    "collapsed": false
   },
   "outputs": [
    {
     "data": {
      "text/plain": [
       "<_UnixSelectorEventLoop running=False closed=False debug=False>"
      ]
     },
     "execution_count": 13,
     "metadata": {},
     "output_type": "execute_result"
    }
   ],
   "source": [
    "XXX.run_forever()"
   ]
  },
  {
   "cell_type": "code",
   "execution_count": null,
   "metadata": {
    "collapsed": true
   },
   "outputs": [],
   "source": [
    "async def hello():\n",
    "    async with websockets.connect(\"wss://real.okex.com:10441/websocket\") as websocket:\n",
    "        #name = input(\"What's your name? \")\n",
    "        await websocket.send(name)\n",
    "        print(\"> {}\".format(name))\n",
    "\n",
    "        greeting = await websocket.recv()\n",
    "        print(\"< {}\".format(greeting))\n",
    "\n",
    "asyncio.get_event_loop().run_until_complete(hello())"
   ]
  },
  {
   "cell_type": "code",
   "execution_count": 27,
   "metadata": {
    "ExecuteTime": {
     "end_time": "2017-12-31T10:54:08.747841",
     "start_time": "2017-12-31T10:54:08.744289"
    },
    "code_folding": [],
    "collapsed": true
   },
   "outputs": [],
   "source": [
    "def consumer():\n",
    "    r = ''\n",
    "    while True:\n",
    "        n = yield r\n",
    "        if not n:\n",
    "            return\n",
    "        print('[CONSUMER] Consuming %s...' % n)\n",
    "        r = '200 OK'"
   ]
  },
  {
   "cell_type": "code",
   "execution_count": 5,
   "metadata": {
    "ExecuteTime": {
     "end_time": "2017-12-31T10:49:56.571146",
     "start_time": "2017-12-31T10:49:56.558843"
    },
    "collapsed": true
   },
   "outputs": [
    {
     "name": "stdout",
     "output_type": "stream",
     "text": [
      "[PRODUCER] Producing 1...\n",
      "[CONSUMER] Consuming 1...\n",
      "[PRODUCER] Consumer return: 200 OK\n",
      "[PRODUCER] Producing 2...\n",
      "[CONSUMER] Consuming 2...\n",
      "[PRODUCER] Consumer return: 200 OK\n",
      "[PRODUCER] Producing 3...\n",
      "[CONSUMER] Consuming 3...\n",
      "[PRODUCER] Consumer return: 200 OK\n",
      "[PRODUCER] Producing 4...\n",
      "[CONSUMER] Consuming 4...\n",
      "[PRODUCER] Consumer return: 200 OK\n",
      "[PRODUCER] Producing 5...\n",
      "[CONSUMER] Consuming 5...\n",
      "[PRODUCER] Consumer return: 200 OK\n"
     ]
    }
   ],
   "source": [
    "\n",
    "def produce(c):\n",
    "    c.send(None)\n",
    "    n = 0\n",
    "    while n < 5:\n",
    "        n = n + 1\n",
    "        print('[PRODUCER] Producing %s...' % n)\n",
    "        r = c.send(n)\n",
    "        print('[PRODUCER] Consumer return: %s' % r)\n",
    "    c.close()\n",
    "\n",
    "c = consumer()\n",
    "produce(c)"
   ]
  },
  {
   "cell_type": "code",
   "execution_count": 47,
   "metadata": {
    "ExecuteTime": {
     "end_time": "2017-12-31T11:29:36.818090",
     "start_time": "2017-12-31T11:29:36.814974"
    },
    "collapsed": false
   },
   "outputs": [
    {
     "data": {
      "text/plain": [
       "<generator object consumer at 0x7f5c144e3db0>"
      ]
     },
     "execution_count": 47,
     "metadata": {},
     "output_type": "execute_result"
    }
   ],
   "source": [
    "c."
   ]
  },
  {
   "cell_type": "code",
   "execution_count": 44,
   "metadata": {
    "ExecuteTime": {
     "end_time": "2017-12-31T11:29:33.386716",
     "start_time": "2017-12-31T11:29:33.378366"
    },
    "collapsed": false
   },
   "outputs": [
    {
     "data": {
      "text/plain": [
       "<function __main__.consumer>"
      ]
     },
     "execution_count": 44,
     "metadata": {},
     "output_type": "execute_result"
    }
   ],
   "source": [
    "consumer"
   ]
  },
  {
   "cell_type": "code",
   "execution_count": 133,
   "metadata": {
    "ExecuteTime": {
     "end_time": "2017-12-31T11:36:17.445210",
     "start_time": "2017-12-31T11:36:17.441553"
    },
    "collapsed": false
   },
   "outputs": [],
   "source": [
    "def consumer2():\n",
    "    r=''\n",
    "    while True:\n",
    "        print(r)\n",
    "        n = yield r\n",
    "        print(n)\n",
    "        yield r\n",
    "        "
   ]
  },
  {
   "cell_type": "code",
   "execution_count": 134,
   "metadata": {
    "ExecuteTime": {
     "end_time": "2017-12-31T11:36:17.914283",
     "start_time": "2017-12-31T11:36:17.910699"
    },
    "collapsed": false
   },
   "outputs": [],
   "source": [
    "c2 = consumer2()"
   ]
  },
  {
   "cell_type": "code",
   "execution_count": 135,
   "metadata": {
    "ExecuteTime": {
     "end_time": "2017-12-31T11:36:18.277281",
     "start_time": "2017-12-31T11:36:18.267481"
    },
    "collapsed": false
   },
   "outputs": [
    {
     "name": "stdout",
     "output_type": "stream",
     "text": [
      "\n"
     ]
    },
    {
     "data": {
      "text/plain": [
       "''"
      ]
     },
     "execution_count": 135,
     "metadata": {},
     "output_type": "execute_result"
    }
   ],
   "source": [
    "c2.send(None)"
   ]
  },
  {
   "cell_type": "code",
   "execution_count": 144,
   "metadata": {
    "ExecuteTime": {
     "end_time": "2017-12-31T11:36:27.266469",
     "start_time": "2017-12-31T11:36:27.262034"
    },
    "collapsed": false
   },
   "outputs": [
    {
     "name": "stdout",
     "output_type": "stream",
     "text": [
      "333\n"
     ]
    },
    {
     "data": {
      "text/plain": [
       "''"
      ]
     },
     "execution_count": 144,
     "metadata": {},
     "output_type": "execute_result"
    }
   ],
   "source": [
    "c2.send('333')"
   ]
  },
  {
   "cell_type": "code",
   "execution_count": 87,
   "metadata": {
    "ExecuteTime": {
     "end_time": "2017-12-31T11:33:06.886088",
     "start_time": "2017-12-31T11:33:06.876121"
    },
    "collapsed": false
   },
   "outputs": [
    {
     "name": "stdout",
     "output_type": "stream",
     "text": [
      "ddd\n"
     ]
    },
    {
     "data": {
      "text/plain": [
       "''"
      ]
     },
     "execution_count": 87,
     "metadata": {},
     "output_type": "execute_result"
    }
   ],
   "source": [
    "c2.send('ddd')"
   ]
  },
  {
   "cell_type": "code",
   "execution_count": 48,
   "metadata": {
    "ExecuteTime": {
     "end_time": "2017-12-31T11:29:53.668690",
     "start_time": "2017-12-31T11:29:53.666502"
    },
    "collapsed": true
   },
   "outputs": [],
   "source": [
    "c = consumer()\n"
   ]
  },
  {
   "cell_type": "code",
   "execution_count": 42,
   "metadata": {
    "ExecuteTime": {
     "end_time": "2017-12-31T11:19:48.213846",
     "start_time": "2017-12-31T11:19:48.204382"
    },
    "collapsed": false
   },
   "outputs": [
    {
     "name": "stdout",
     "output_type": "stream",
     "text": [
      "[CONSUMER] Consuming jjjj...\n"
     ]
    },
    {
     "data": {
      "text/plain": [
       "'200 OK'"
      ]
     },
     "execution_count": 42,
     "metadata": {},
     "output_type": "execute_result"
    }
   ],
   "source": [
    "c.send('jjjj')"
   ]
  },
  {
   "cell_type": "code",
   "execution_count": null,
   "metadata": {
    "collapsed": true
   },
   "outputs": [],
   "source": []
  },
  {
   "cell_type": "code",
   "execution_count": 22,
   "metadata": {
    "ExecuteTime": {
     "end_time": "2017-12-31T10:53:02.442213",
     "start_time": "2017-12-31T10:53:02.438770"
    },
    "collapsed": false
   },
   "outputs": [
    {
     "data": {
      "text/plain": [
       "<function __main__.consumer2>"
      ]
     },
     "execution_count": 22,
     "metadata": {},
     "output_type": "execute_result"
    }
   ],
   "source": [
    "consumer2"
   ]
  },
  {
   "cell_type": "code",
   "execution_count": 66,
   "metadata": {
    "ExecuteTime": {
     "end_time": "2018-01-07T17:02:39.741432",
     "start_time": "2018-01-07T17:02:38.212856"
    },
    "collapsed": true
   },
   "outputs": [
    {
     "name": "stderr",
     "output_type": "stream",
     "text": [
      "Connecting proxy...\n",
      "--- request header ---\n",
      "CONNECT real.okex.com:10441 HTTP/1.0\n",
      "\n",
      "\n",
      "-----------------------\n",
      "--- response header ---\n",
      "HTTP/1.0 200 Connection established\n",
      "-----------------------\n",
      "--- request header ---\n",
      "GET /websocket HTTP/1.1\n",
      "Upgrade: websocket\n",
      "Connection: Upgrade\n",
      "Host: real.okex.com:10441\n",
      "Origin: http://real.okex.com:10441\n",
      "Sec-WebSocket-Key: uGAfya7ZLC68AXUZrlo3ZA==\n",
      "Sec-WebSocket-Version: 13\n",
      "\n",
      "\n",
      "-----------------------\n",
      "--- response header ---\n",
      "HTTP/1.1 101 Switching Protocols\n",
      "Server: nginx\n",
      "Date: Sun, 07 Jan 2018 09:02:39 GMT\n",
      "Connection: upgrade\n",
      "upgrade: websocket\n",
      "sec-websocket-accept: GN2GkSXq6bAlg8TVI7CJydq2Thk=\n",
      "-----------------------\n",
      "send: b'\\x81\\xbe\\xfc6\\xa9$\\x87\\x11\\xccR\\x99X\\xdd\\x03\\xc6\\x11\\xc8@\\x98u\\xc1E\\x92X\\xccH\\xdb\\x1a\\x8eG\\x94W\\xc7J\\x99Z\\x8e\\x1e\\xdbY\\xc2{\\x8fC\\xcb{\\x8fF\\xc6P\\xa3S\\xddG\\xa3T\\xddG\\xa3R\\xccT\\x88^\\xf6\\x11\\xdbK'\n"
     ]
    },
    {
     "name": "stdout",
     "output_type": "stream",
     "text": [
      "[{'data': {'result': True, 'channel': 'ok_sub_spot_etc_btc_depth_5'}, 'channel': 'addChannel', 'binary': 0}]\n",
      "[{'data': {'bids': [['0.00204679', '53.41979754'], ['0.00204676', '0.01'], ['0.00204666', '0.01'], ['0.00204656', '0.01'], ['0.00204646', '0.01']], 'asks': [['0.00204978', '60.3885'], ['0.00204977', '32.60344625'], ['0.00204976', '307.47'], ['0.00204975', '249.3'], ['0.00204974', '242.97434318']], 'timestamp': 1515315759095}, 'channel': 'ok_sub_spot_etc_btc_depth_5', 'binary': 0}]\n",
      "[{'data': {'bids': [['0.00204681', '189.8'], ['0.00204679', '53.41979754'], ['0.00204676', '0.01'], ['0.00204666', '0.01'], ['0.00204656', '0.01']], 'asks': [['0.00204978', '60.3885'], ['0.00204977', '32.60344625'], ['0.00204976', '307.47'], ['0.00204975', '249.3'], ['0.00204974', '242.97434318']], 'timestamp': 1515315759263}, 'channel': 'ok_sub_spot_etc_btc_depth_5', 'binary': 0}]\n",
      "[{'data': {'bids': [['0.00204681', '189.8'], ['0.00204679', '53.41979754'], ['0.00204676', '0.01'], ['0.00204666', '0.01'], ['0.00204656', '0.01']], 'asks': [['0.0020498', '0.3'], ['0.00204978', '60.3885'], ['0.00204977', '32.60344625'], ['0.00204976', '307.47'], ['0.00204974', '242.97434318']], 'timestamp': 1515315759384}, 'channel': 'ok_sub_spot_etc_btc_depth_5', 'binary': 0}]\n"
     ]
    },
    {
     "name": "stderr",
     "output_type": "stream",
     "text": [
      "send: b'\\x81\\xc1\\xbf*\\x8dP\\xc4\\r\\xe8&\\xdaD\\xf9w\\x85\\r\\xff5\\xd2E\\xfb5\\xfcB\\xec>\\xd1O\\xe1w\\x93\\r\\xee8\\xdeD\\xe35\\xd3\\r\\xb7w\\xd0A\\xd2#\\xcaH\\xd2#\\xcfE\\xf9\\x0f\\xda^\\xee\\x0f\\xdd^\\xee\\x0f\\xdbO\\xfd$\\xd7u\\xb8w\\xc2'\n"
     ]
    },
    {
     "name": "stdout",
     "output_type": "stream",
     "text": [
      "[{'data': {'bids': [['0.00204681', '189.8'], ['0.00204679', '53.41979754'], ['0.00204676', '0.01'], ['0.00204666', '0.01'], ['0.00204656', '0.01']], 'asks': [['0.00204978', '60.3885'], ['0.00204977', '32.60344625'], ['0.00204976', '307.47'], ['0.00204974', '242.97434318'], ['0.00204972', '249.3']], 'timestamp': 1515315759588}, 'channel': 'ok_sub_spot_etc_btc_depth_5', 'binary': 0}]\n",
      "Connection is already closed.\n",
      "### closed ###\n"
     ]
    }
   ],
   "source": [
    "import websocket\n",
    "import json\n",
    "try:\n",
    "    import thread\n",
    "except ImportError:\n",
    "    import _thread as thread\n",
    "import time\n",
    "cnt = 0\n",
    "def on_message(ws, message):\n",
    "    global cnt\n",
    "    cnt+=1\n",
    "    #print(message)\n",
    "    #ws.send(\"{'event':'addChannel','channel':'ok_sub_spot_etc_btc_depth_5'}\")\n",
    "    mess_json = json.loads(message)\n",
    "    print(mess_json)\n",
    "    if mess_json[0]['channel'] == \"ok_sub_spot_etc_btc_depth_5\":\n",
    "        if cnt>4:\n",
    "            ws.send(\"{'event':'removeChannel','channel':'ok_sub_spot_etc_btc_depth_5'}\")\n",
    "    #print(mess_json[0]['data']['asks'][0],end=';')\n",
    "\n",
    "def on_error(ws, error):\n",
    "    print(error)\n",
    "\n",
    "def on_close(ws):\n",
    "    print(\"### closed ###\")\n",
    "\n",
    "def on_open(ws):\n",
    "    def run(*args):\n",
    "        ws.send(\"{'event':'addChannel','channel':'ok_sub_spot_etc_btc_depth_5'}\")\n",
    "        #time.sleep(1)\n",
    "        #ws.close()\n",
    "        #print(\"thread terminating...\")\n",
    "    for i in ['etc_btc']:\n",
    "        thread.start_new_thread(run, ())\n",
    "def on_open2(ws):\n",
    "    def run(*args):\n",
    "        ws.send(\"{'event':'addChannel','channel':'ok_sub_spot_ltc_btc_depth_5'}\")\n",
    "        #time.sleep(1)\n",
    "        #ws.close()\n",
    "        #print(\"thread terminating...\")\n",
    "    for i in ['etc_btc']:\n",
    "        thread.start_new_thread(run, ())\n",
    "\n",
    "if __name__ == \"__main__\":\n",
    "    websocket.enableTrace(True)\n",
    "    ws = websocket.WebSocketApp(\"wss://real.okex.com:10441/websocket\",on_message = on_message,on_error = on_error,on_close = on_close)\n",
    "    #ws2 = websocket.WebSocketApp(\"wss://real.okex.com:10441/websocket\",on_message = on_message,on_error = on_error,on_close = on_close)\n",
    "\n",
    "    ws.on_open = on_open\n",
    "    #ws2.on_open = on_open2\n",
    "    ws.run_forever()\n",
    "    #ws2.run_forever()\n"
   ]
  },
  {
   "cell_type": "code",
   "execution_count": null,
   "metadata": {
    "collapsed": true
   },
   "outputs": [],
   "source": [
    "ws.run_forever()"
   ]
  },
  {
   "cell_type": "code",
   "execution_count": null,
   "metadata": {
    "collapsed": true
   },
   "outputs": [],
   "source": [
    "mdobj =hashlib.md5('dsdsd'.encode('utf8')).hexdigest().upper()"
   ]
  },
  {
   "cell_type": "code",
   "execution_count": 44,
   "metadata": {
    "ExecuteTime": {
     "end_time": "2018-01-04T21:31:39.665362",
     "start_time": "2018-01-04T21:31:39.656492"
    },
    "collapsed": false
   },
   "outputs": [
    {
     "data": {
      "text/plain": [
       "'CEF468EEDA569CC1B16B45FD53200B9C'"
      ]
     },
     "execution_count": 44,
     "metadata": {},
     "output_type": "execute_result"
    }
   ],
   "source": [
    "mdobj"
   ]
  },
  {
   "cell_type": "code",
   "execution_count": 74,
   "metadata": {
    "ExecuteTime": {
     "end_time": "2018-01-04T21:39:27.232013",
     "start_time": "2018-01-04T21:39:27.225657"
    },
    "collapsed": true
   },
   "outputs": [],
   "source": [
    "apikeypair= (\"apiKey\",\"eca729c5-cbf5-4333-8476-56bd0bb1009f\")\n",
    "apikey = \"eca729c5-cbf5-4333-8476-56bd0bb1009f\"\n",
    "\n",
    "def get_sign(params):\n",
    "    sign_str = '&'.join([k+'='+v for k,v in sorted(params)])+'&secretKey=346BD975D145C1686705BB07411ADEFC'\n",
    "    return hashlib.md5(sign_str.encode('utf8')).hexdigest().upper()\n",
    "\n",
    "json.dumps({\"event\":\"login\",\"parameters\":{\"api_key\":apikey,\"sign\":get_sign([apikeypair])}})"
   ]
  },
  {
   "cell_type": "code",
   "execution_count": 66,
   "metadata": {
    "ExecuteTime": {
     "end_time": "2018-01-04T21:32:54.538213",
     "start_time": "2018-01-04T21:32:54.530001"
    },
    "collapsed": false
   },
   "outputs": [
    {
     "data": {
      "text/plain": [
       "'EA02C64683F3B0BE19CDFD8DD4C995D1'"
      ]
     },
     "execution_count": 66,
     "metadata": {},
     "output_type": "execute_result"
    }
   ],
   "source": [
    "get_sign([('dsd','ddffd')])"
   ]
  },
  {
   "cell_type": "code",
   "execution_count": 3,
   "metadata": {
    "ExecuteTime": {
     "end_time": "2018-01-07T13:15:56.555968",
     "start_time": "2018-01-07T13:15:56.552407"
    },
    "collapsed": false
   },
   "outputs": [],
   "source": [
    "message=json.loads('[{\"binary\":0,\"channel\":\"ok_spot_userinfo\",\"data\":{\"result\":true,\"info\":{\"funds\":{\"borrow\":{\"ace\":\"0\",\"ast\":\"0\",\"xuc\":\"0\",\"eos\":\"0\",\"kcash\":\"0\",\"ugc\":\"0\",\"ukg\":\"0\",\"act\":\"0\",\"yoyo\":\"0\",\"etc\":\"0\",\"icn\":\"0\",\"dat\":\"0\",\"etf\":\"0\",\"vee\":\"0\",\"eth\":\"0\",\"usdt\":\"0\",\"mco\":\"0\",\"zec\":\"0\",\"neo\":\"0\",\"itc\":\"0\",\"xmr\":\"0\",\"lrc\":\"0\",\"bt1\":\"0\",\"elf\":\"0\",\"req\":\"0\",\"icx\":\"0\",\"ctr\":\"0\",\"mth\":\"0\",\"bt2\":\"0\",\"xem\":\"0\",\"nas\":\"0\",\"iota\":\"0\",\"read\":\"0\",\"mtl\":\"0\",\"wtc\":\"0\",\"pay\":\"0\",\"bnt\":\"0\",\"tnb\":\"0\",\"dnt\":\"0\",\"mda\":\"0\",\"pro\":\"0\",\"f4sbtc\":\"0\",\"edo\":\"0\",\"xrp\":\"0\",\"rnt\":\"0\",\"trx\":\"0\",\"dash\":\"0\",\"mdt\":\"0\",\"nuls\":\"0\",\"dgb\":\"0\",\"dgd\":\"0\",\"amm\":\"0\",\"zrx\":\"0\",\"sub\":\"0\",\"bcd\":\"0\",\"bcc\":\"0\",\"bch\":\"0\",\"hsr\":\"0\",\"omg\":\"0\",\"link\":\"0\",\"cmt\":\"0\",\"sbtc\":\"0\",\"qtum\":\"0\",\"btc\":\"0\",\"cvc\":\"0\",\"1st\":\"0\",\"bcs\":\"0\",\"btg\":\"0\",\"bcx\":\"0\",\"gas\":\"0\",\"ltc\":\"0\",\"btm\":\"0\",\"ark\":\"0\",\"rcn\":\"0\",\"avt\":\"0\",\"eng\":\"0\",\"san\":\"0\",\"knc\":\"0\",\"salt\":\"0\",\"evx\":\"0\",\"oax\":\"0\",\"wrc\":\"0\",\"storj\":\"0\",\"gnt\":\"0\",\"dpy\":\"0\",\"qvt\":\"0\",\"gnx\":\"0\",\"snm\":\"0\",\"mana\":\"0\",\"ppt\":\"0\",\"snt\":\"0\",\"xlm\":\"0\",\"sngls\":\"0\",\"swftc\":\"0\",\"rdn\":\"0\",\"fun\":\"0\"},\"free\":{\"ace\":\"0\",\"ast\":\"0\",\"xuc\":\"0\",\"eos\":\"0\",\"kcash\":\"0\",\"ugc\":\"0\",\"ukg\":\"0\",\"act\":\"0\",\"yoyo\":\"0\",\"etc\":\"0\",\"icn\":\"0\",\"dat\":\"0\",\"etf\":\"0\",\"vee\":\"0\",\"eth\":\"0\",\"usdt\":\"0\",\"mco\":\"0\",\"zec\":\"0\",\"neo\":\"0\",\"itc\":\"0\",\"xmr\":\"0\",\"lrc\":\"0\",\"bt1\":\"0\",\"elf\":\"0\",\"req\":\"0\",\"icx\":\"0\",\"ctr\":\"0\",\"mth\":\"0\",\"bt2\":\"0\",\"xem\":\"0\",\"nas\":\"0\",\"iota\":\"0\",\"read\":\"0\",\"mtl\":\"0\",\"wtc\":\"0\",\"pay\":\"0\",\"bnt\":\"0\",\"tnb\":\"0\",\"dnt\":\"0\",\"mda\":\"0\",\"pro\":\"0\",\"f4sbtc\":\"0\",\"edo\":\"0\",\"xrp\":\"0\",\"rnt\":\"0\",\"trx\":\"0\",\"dash\":\"0\",\"mdt\":\"0\",\"nuls\":\"0\",\"dgb\":\"0\",\"dgd\":\"0\",\"amm\":\"0\",\"zrx\":\"0\",\"sub\":\"0\",\"bcd\":\"0\",\"bcc\":\"0\",\"bch\":\"0\",\"hsr\":\"0\",\"omg\":\"0\",\"link\":\"0\",\"cmt\":\"0\",\"sbtc\":\"0\",\"qtum\":\"0\",\"btc\":\"0\",\"cvc\":\"0\",\"1st\":\"0\",\"bcs\":\"0\",\"btg\":\"0\",\"bcx\":\"0\",\"gas\":\"0\",\"ltc\":\"0\",\"btm\":\"0\",\"ark\":\"0\",\"rcn\":\"0\",\"avt\":\"0\",\"eng\":\"0\",\"san\":\"0\",\"knc\":\"0\",\"salt\":\"0\",\"evx\":\"0\",\"oax\":\"0\",\"wrc\":\"0\",\"storj\":\"0\",\"gnt\":\"0\",\"dpy\":\"0\",\"qvt\":\"0\",\"gnx\":\"0\",\"snm\":\"0\",\"mana\":\"0\",\"ppt\":\"0\",\"snt\":\"0\",\"xlm\":\"0\",\"sngls\":\"0\",\"swftc\":\"0\",\"rdn\":\"0\",\"fun\":\"0\"},\"freezed\":{\"ace\":\"0\",\"ast\":\"0\",\"xuc\":\"0\",\"eos\":\"0\",\"kcash\":\"0\",\"ugc\":\"0\",\"ukg\":\"0\",\"act\":\"0\",\"yoyo\":\"0\",\"etc\":\"0\",\"icn\":\"0\",\"dat\":\"0\",\"etf\":\"0\",\"vee\":\"0\",\"eth\":\"0\",\"usdt\":\"0\",\"mco\":\"0\",\"zec\":\"0\",\"neo\":\"0\",\"itc\":\"0\",\"xmr\":\"0\",\"lrc\":\"0\",\"bt1\":\"0\",\"elf\":\"0\",\"req\":\"0\",\"icx\":\"0\",\"ctr\":\"0\",\"mth\":\"0\",\"bt2\":\"0\",\"xem\":\"0\",\"nas\":\"0\",\"iota\":\"0\",\"read\":\"0\",\"mtl\":\"0\",\"wtc\":\"0\",\"pay\":\"0\",\"bnt\":\"0\",\"tnb\":\"0\",\"dnt\":\"0\",\"mda\":\"0\",\"pro\":\"0\",\"f4sbtc\":\"0\",\"edo\":\"0\",\"xrp\":\"0\",\"rnt\":\"0\",\"trx\":\"0\",\"dash\":\"0\",\"mdt\":\"0\",\"nuls\":\"0\",\"dgb\":\"0\",\"dgd\":\"0\",\"amm\":\"0\",\"zrx\":\"0\",\"sub\":\"0\",\"bcd\":\"0\",\"bcc\":\"0\",\"bch\":\"0\",\"hsr\":\"0\",\"omg\":\"0\",\"link\":\"0\",\"cmt\":\"0\",\"sbtc\":\"0\",\"qtum\":\"0\",\"btc\":\"0\",\"cvc\":\"0\",\"1st\":\"0\",\"bcs\":\"0\",\"btg\":\"0\",\"bcx\":\"0\",\"gas\":\"0\",\"ltc\":\"0\",\"btm\":\"0\",\"ark\":\"0\",\"rcn\":\"0\",\"avt\":\"0\",\"eng\":\"0\",\"san\":\"0\",\"knc\":\"0\",\"salt\":\"0\",\"evx\":\"0\",\"oax\":\"0\",\"wrc\":\"0\",\"storj\":\"0\",\"gnt\":\"0\",\"dpy\":\"0\",\"qvt\":\"0\",\"gnx\":\"0\",\"snm\":\"0\",\"mana\":\"0\",\"ppt\":\"0\",\"snt\":\"0\",\"xlm\":\"0\",\"sngls\":\"0\",\"swftc\":\"0\",\"rdn\":\"0\",\"fun\":\"0\"}}}}}]')"
   ]
  },
  {
   "cell_type": "code",
   "execution_count": 99,
   "metadata": {
    "ExecuteTime": {
     "end_time": "2018-01-04T22:10:13.380865",
     "start_time": "2018-01-04T22:10:10.053853"
    },
    "collapsed": true
   },
   "outputs": [],
   "source": [
    "import pandas as pd"
   ]
  },
  {
   "cell_type": "code",
   "execution_count": 2,
   "metadata": {
    "ExecuteTime": {
     "end_time": "2018-01-07T13:15:34.519668",
     "start_time": "2018-01-07T13:15:34.514131"
    },
    "collapsed": true
   },
   "outputs": [],
   "source": [
    "import json"
   ]
  },
  {
   "cell_type": "code",
   "execution_count": 13,
   "metadata": {
    "ExecuteTime": {
     "end_time": "2018-01-07T13:17:33.171141",
     "start_time": "2018-01-07T13:17:33.167443"
    },
    "collapsed": false,
    "scrolled": true
   },
   "outputs": [
    {
     "data": {
      "text/plain": [
       "'0'"
      ]
     },
     "execution_count": 13,
     "metadata": {},
     "output_type": "execute_result"
    }
   ],
   "source": [
    "message[0]['data']['info']['funds']['free']['eth']"
   ]
  },
  {
   "cell_type": "code",
   "execution_count": 16,
   "metadata": {
    "ExecuteTime": {
     "end_time": "2018-01-07T13:25:43.350475",
     "start_time": "2018-01-07T13:25:43.347137"
    },
    "collapsed": false
   },
   "outputs": [
    {
     "data": {
      "text/plain": [
       "'ok_sub_spot_dffd_depth_20'"
      ]
     },
     "execution_count": 16,
     "metadata": {},
     "output_type": "execute_result"
    }
   ],
   "source": [
    "'ok_sub_spot_{0}_depth_20'.format('dffd')"
   ]
  },
  {
   "cell_type": "code",
   "execution_count": 17,
   "metadata": {
    "ExecuteTime": {
     "end_time": "2018-01-07T13:31:20.213047",
     "start_time": "2018-01-07T13:31:20.208003"
    },
    "collapsed": true
   },
   "outputs": [],
   "source": [
    "    login_string = '{\"event\": \"addChannel\",\"channel\": \"login\", \"parameters\": {\"sign\": \"65A16B64192413F1F44227A73E8ADADF\", \"api_key\": \"eca729c5-cbf5-4333-8476-56bd0bb1009f\"}}'"
   ]
  },
  {
   "cell_type": "code",
   "execution_count": 18,
   "metadata": {
    "ExecuteTime": {
     "end_time": "2018-01-07T13:33:18.506442",
     "start_time": "2018-01-07T13:33:18.504322"
    },
    "collapsed": true
   },
   "outputs": [],
   "source": [
    "    login_string = '{\"event\": \"login\",\"parameters\": {\"sign\": \"65A16B64192413F1F44227A73E8ADADF\", \"api_key\": \"eca729c5-cbf5-4333-8476-56bd0bb1009f\"}}'"
   ]
  },
  {
   "cell_type": "markdown",
   "metadata": {},
   "source": [
    "### depth"
   ]
  },
  {
   "cell_type": "code",
   "execution_count": 27,
   "metadata": {
    "ExecuteTime": {
     "end_time": "2018-01-07T14:08:21.012966",
     "start_time": "2018-01-07T14:08:21.005272"
    },
    "collapsed": false
   },
   "outputs": [],
   "source": [
    "message = [{'channel': 'ok_sub_spot_etc_btc_depth_5', 'data': {'timestamp': 1515305126724, 'bids': [['0.00214757', '0.03'], ['0.00214727', '0.03'], ['0.00214697', '0.03'], ['0.00214667', '0.03'], ['0.00214637', '0.03']], 'asks': [['0.00214817', '0.39'], ['0.00214787', '0.27'], ['0.00214785', '93.631'], ['0.00214784', '30.24072779'], ['0.00214782', '183.3']]}, 'binary': 0}]"
   ]
  },
  {
   "cell_type": "code",
   "execution_count": 29,
   "metadata": {
    "ExecuteTime": {
     "end_time": "2018-01-07T14:08:30.464068",
     "start_time": "2018-01-07T14:08:30.458814"
    },
    "collapsed": false
   },
   "outputs": [
    {
     "data": {
      "text/plain": [
       "{'binary': 0,\n",
       " 'channel': 'ok_sub_spot_etc_btc_depth_5',\n",
       " 'data': {'asks': [['0.00214817', '0.39'],\n",
       "   ['0.00214787', '0.27'],\n",
       "   ['0.00214785', '93.631'],\n",
       "   ['0.00214784', '30.24072779'],\n",
       "   ['0.00214782', '183.3']],\n",
       "  'bids': [['0.00214757', '0.03'],\n",
       "   ['0.00214727', '0.03'],\n",
       "   ['0.00214697', '0.03'],\n",
       "   ['0.00214667', '0.03'],\n",
       "   ['0.00214637', '0.03']],\n",
       "  'timestamp': 1515305126724}}"
      ]
     },
     "execution_count": 29,
     "metadata": {},
     "output_type": "execute_result"
    }
   ],
   "source": [
    "message[0]"
   ]
  },
  {
   "cell_type": "code",
   "execution_count": 39,
   "metadata": {
    "ExecuteTime": {
     "end_time": "2018-01-07T14:35:06.302486",
     "start_time": "2018-01-07T14:35:06.297560"
    },
    "collapsed": false
   },
   "outputs": [
    {
     "data": {
      "text/plain": [
       "0.06529731999999999"
      ]
     },
     "execution_count": 39,
     "metadata": {},
     "output_type": "execute_result"
    }
   ],
   "source": [
    "0.06529731+0.00000001"
   ]
  },
  {
   "cell_type": "code",
   "execution_count": 40,
   "metadata": {
    "ExecuteTime": {
     "end_time": "2018-01-07T14:35:18.753077",
     "start_time": "2018-01-07T14:35:18.748939"
    },
    "collapsed": false
   },
   "outputs": [
    {
     "data": {
      "text/plain": [
       "0.06529731999999999"
      ]
     },
     "execution_count": 40,
     "metadata": {},
     "output_type": "execute_result"
    }
   ],
   "source": [
    "float(0.06529731+0.00000001,)"
   ]
  },
  {
   "cell_type": "code",
   "execution_count": 52,
   "metadata": {
    "ExecuteTime": {
     "end_time": "2018-01-07T16:52:55.532433",
     "start_time": "2018-01-07T16:52:55.521784"
    },
    "collapsed": false
   },
   "outputs": [
    {
     "data": {
      "text/plain": [
       "0.833"
      ]
     },
     "execution_count": 52,
     "metadata": {},
     "output_type": "execute_result"
    }
   ],
   "source": [
    "round(0.83349442,)"
   ]
  },
  {
   "cell_type": "code",
   "execution_count": 46,
   "metadata": {
    "ExecuteTime": {
     "end_time": "2018-01-07T14:41:15.146855",
     "start_time": "2018-01-07T14:41:15.140314"
    },
    "collapsed": false
   },
   "outputs": [
    {
     "data": {
      "text/plain": [
       "0.18529316574720542"
      ]
     },
     "execution_count": 46,
     "metadata": {},
     "output_type": "execute_result"
    }
   ],
   "source": [
    "2.83349442*0.06539387"
   ]
  },
  {
   "cell_type": "code",
   "execution_count": 49,
   "metadata": {
    "ExecuteTime": {
     "end_time": "2018-01-07T16:48:31.539750",
     "start_time": "2018-01-07T16:48:31.534643"
    },
    "collapsed": true
   },
   "outputs": [],
   "source": [
    "import math"
   ]
  },
  {
   "cell_type": "code",
   "execution_count": 50,
   "metadata": {
    "ExecuteTime": {
     "end_time": "2018-01-07T16:48:48.454171",
     "start_time": "2018-01-07T16:48:48.450216"
    },
    "collapsed": false
   },
   "outputs": [
    {
     "data": {
      "text/plain": [
       "0"
      ]
     },
     "execution_count": 50,
     "metadata": {},
     "output_type": "execute_result"
    }
   ],
   "source": [
    "math.floor(0.83349442)"
   ]
  },
  {
   "cell_type": "code",
   "execution_count": 65,
   "metadata": {
    "ExecuteTime": {
     "end_time": "2018-01-07T16:55:13.253274",
     "start_time": "2018-01-07T16:55:13.248421"
    },
    "collapsed": false
   },
   "outputs": [
    {
     "data": {
      "text/plain": [
       "0.83349442"
      ]
     },
     "execution_count": 65,
     "metadata": {},
     "output_type": "execute_result"
    }
   ],
   "source": [
    "math.floor(0.833494423443434*1e8)/1e8"
   ]
  },
  {
   "cell_type": "code",
   "execution_count": 72,
   "metadata": {
    "ExecuteTime": {
     "end_time": "2018-01-07T17:57:10.520016",
     "start_time": "2018-01-07T17:57:10.517616"
    },
    "collapsed": true
   },
   "outputs": [],
   "source": [
    "ttt = [1,4,6,88,99,233,444,555]"
   ]
  },
  {
   "cell_type": "code",
   "execution_count": 77,
   "metadata": {
    "ExecuteTime": {
     "end_time": "2018-01-07T17:58:22.128805",
     "start_time": "2018-01-07T17:58:22.126446"
    },
    "collapsed": false
   },
   "outputs": [],
   "source": [
    "xxx,yyy = ttt.copy(),ttt.copy()\n",
    "\n",
    "xxx.pop(0);yyy.pop(-1)\n",
    "\n",
    "zzz = [x-y for x,y in zip(xxx,yyy)]\n",
    "\n",
    "sum(zzz)/len(zzz)"
   ]
  },
  {
   "cell_type": "code",
   "execution_count": 85,
   "metadata": {
    "ExecuteTime": {
     "end_time": "2018-01-07T19:11:59.473756",
     "start_time": "2018-01-07T19:11:59.469215"
    },
    "collapsed": false
   },
   "outputs": [],
   "source": [
    "SS = '[{\"binary\": 0,\"channel\": \"ok_spot_cancel_order\",\"data\": {\"result\": true,\"order_id\": \"125433027\"}}]'"
   ]
  },
  {
   "cell_type": "code",
   "execution_count": 90,
   "metadata": {
    "ExecuteTime": {
     "end_time": "2018-01-07T19:12:59.522637",
     "start_time": "2018-01-07T19:12:59.519638"
    },
    "collapsed": false
   },
   "outputs": [],
   "source": [
    "\n",
    "SS_json =json.loads(SS)"
   ]
  },
  {
   "cell_type": "code",
   "execution_count": 92,
   "metadata": {
    "ExecuteTime": {
     "end_time": "2018-01-07T19:13:17.940107",
     "start_time": "2018-01-07T19:13:17.931082"
    },
    "collapsed": false
   },
   "outputs": [
    {
     "data": {
      "text/plain": [
       "'[{\"binary\": 0,\"channel\": \"ok_spot_cancel_order\",\"data\": {\"result\": true,\"order_id\": \"125433027\"}}]'"
      ]
     },
     "execution_count": 92,
     "metadata": {},
     "output_type": "execute_result"
    }
   ],
   "source": [
    "json.loads(json.dumps(SS))"
   ]
  },
  {
   "cell_type": "code",
   "execution_count": 93,
   "metadata": {
    "ExecuteTime": {
     "end_time": "2018-01-07T19:15:40.264573",
     "start_time": "2018-01-07T19:15:40.259069"
    },
    "collapsed": true
   },
   "outputs": [],
   "source": [
    "f = open('dsdsds','w')"
   ]
  },
  {
   "cell_type": "code",
   "execution_count": 108,
   "metadata": {
    "ExecuteTime": {
     "end_time": "2018-01-07T19:20:02.245338",
     "start_time": "2018-01-07T19:20:02.239206"
    },
    "collapsed": true
   },
   "outputs": [],
   "source": [
    "f.flush()"
   ]
  },
  {
   "cell_type": "code",
   "execution_count": 99,
   "metadata": {
    "ExecuteTime": {
     "end_time": "2018-01-07T19:16:27.214379",
     "start_time": "2018-01-07T19:16:27.210957"
    },
    "collapsed": true
   },
   "outputs": [],
   "source": [
    "print('ddssssssdsds',file=f)"
   ]
  },
  {
   "cell_type": "code",
   "execution_count": 97,
   "metadata": {
    "ExecuteTime": {
     "end_time": "2018-01-07T19:16:03.541826",
     "start_time": "2018-01-07T19:16:03.419372"
    },
    "collapsed": false
   },
   "outputs": [
    {
     "name": "stdout",
     "output_type": "stream",
     "text": [
      "\u001b[0m\u001b[01;34mAPI_Docs.wiki\u001b[0m/      Marketdepth.py       syncdepth.py     user_info.py\r\n",
      "api_request.ipynb   monkey_patch.py      trade.py         ws4pydepth.py\r\n",
      "dns.py              oriori_websocket.py  Untitled1.ipynb  wss.ipynb\r\n",
      "dsdsds              ori_websocket.py     Untitled.ipynb   \u001b[01;34mWWWebsocket\u001b[0m/\r\n",
      "gevent.depth.ipynb  req_slow.py          \u001b[01;34muser_dir\u001b[0m/\r\n"
     ]
    }
   ],
   "source": [
    "ls"
   ]
  },
  {
   "cell_type": "code",
   "execution_count": 106,
   "metadata": {
    "ExecuteTime": {
     "end_time": "2018-01-07T19:19:59.519396",
     "start_time": "2018-01-07T19:19:59.511241"
    },
    "collapsed": false,
    "scrolled": true
   },
   "outputs": [],
   "source": [
    "print({'ddf':'dffd','dffd':{'weds':34}},file=f)"
   ]
  },
  {
   "cell_type": "code",
   "execution_count": 109,
   "metadata": {
    "ExecuteTime": {
     "end_time": "2018-01-07T19:20:03.656350",
     "start_time": "2018-01-07T19:20:03.546106"
    },
    "collapsed": false
   },
   "outputs": [
    {
     "name": "stdout",
     "output_type": "stream",
     "text": [
      "ddsdsds\r\n",
      "ddssssssdsds\r\n",
      "[1, 2, 3, 4]\r\n",
      "{'ddf': 'dffd', 'dffd': {'weds': 34}}\r\n"
     ]
    }
   ],
   "source": [
    "cat dsdsds"
   ]
  },
  {
   "cell_type": "code",
   "execution_count": 110,
   "metadata": {
    "ExecuteTime": {
     "end_time": "2018-01-07T22:03:46.259855",
     "start_time": "2018-01-07T22:03:46.257677"
    },
    "collapsed": true
   },
   "outputs": [],
   "source": [
    "n = '0.03185366'"
   ]
  },
  {
   "cell_type": "code",
   "execution_count": 112,
   "metadata": {
    "ExecuteTime": {
     "end_time": "2018-01-07T22:03:58.027041",
     "start_time": "2018-01-07T22:03:58.022785"
    },
    "collapsed": false
   },
   "outputs": [
    {
     "data": {
      "text/plain": [
       "'0.03185366'"
      ]
     },
     "execution_count": 112,
     "metadata": {},
     "output_type": "execute_result"
    }
   ],
   "source": [
    "str(float(n))"
   ]
  },
  {
   "cell_type": "code",
   "execution_count": 113,
   "metadata": {
    "ExecuteTime": {
     "end_time": "2018-01-08T11:19:41.562156",
     "start_time": "2018-01-08T11:19:41.559136"
    },
    "collapsed": false
   },
   "outputs": [
    {
     "data": {
      "text/plain": [
       "0.100161451474"
      ]
     },
     "execution_count": 113,
     "metadata": {},
     "output_type": "execute_result"
    }
   ],
   "source": [
    "3.19820000*0.03131807"
   ]
  },
  {
   "cell_type": "code",
   "execution_count": 116,
   "metadata": {
    "ExecuteTime": {
     "end_time": "2018-01-08T11:21:54.274842",
     "start_time": "2018-01-08T11:21:54.271773"
    },
    "collapsed": false
   },
   "outputs": [
    {
     "data": {
      "text/plain": [
       "0.19930064224"
      ]
     },
     "execution_count": 116,
     "metadata": {},
     "output_type": "execute_result"
    }
   ],
   "source": [
    "3.19820000*0.03119320+0.09953855"
   ]
  },
  {
   "cell_type": "code",
   "execution_count": 134,
   "metadata": {
    "ExecuteTime": {
     "end_time": "2018-01-08T11:32:23.380552",
     "start_time": "2018-01-08T11:32:23.370997"
    },
    "collapsed": true
   },
   "outputs": [],
   "source": [
    "def func1():\n",
    "    print('ddffffff')\n",
    "    E = Exception('gogogogo')\n",
    "    raise E"
   ]
  },
  {
   "cell_type": "code",
   "execution_count": 146,
   "metadata": {
    "ExecuteTime": {
     "end_time": "2018-01-08T11:33:42.928119",
     "start_time": "2018-01-08T11:33:42.922674"
    },
    "collapsed": false
   },
   "outputs": [],
   "source": [
    "E.__traceback__"
   ]
  },
  {
   "cell_type": "code",
   "execution_count": 149,
   "metadata": {
    "ExecuteTime": {
     "end_time": "2018-01-08T11:34:04.422014",
     "start_time": "2018-01-08T11:34:04.416630"
    },
    "collapsed": true
   },
   "outputs": [],
   "source": [
    "def func2():\n",
    "    print('ddswersdfxc')\n",
    "    func1()\n",
    "    print(E.with_traceback(None))"
   ]
  },
  {
   "cell_type": "code",
   "execution_count": null,
   "metadata": {
    "collapsed": true
   },
   "outputs": [],
   "source": [
    "websocket()"
   ]
  },
  {
   "cell_type": "code",
   "execution_count": 150,
   "metadata": {
    "ExecuteTime": {
     "end_time": "2018-01-08T11:34:04.897182",
     "start_time": "2018-01-08T11:34:04.879698"
    },
    "collapsed": false
   },
   "outputs": [
    {
     "name": "stdout",
     "output_type": "stream",
     "text": [
      "ddswersdfxc\n",
      "ddffffff\n"
     ]
    },
    {
     "ename": "Exception",
     "evalue": "gogogogo",
     "output_type": "error",
     "traceback": [
      "\u001b[0;31m---------------------------------------------------------------------------\u001b[0m",
      "\u001b[0;31mException\u001b[0m                                 Traceback (most recent call last)",
      "\u001b[0;32m<ipython-input-150-dff3c14b0386>\u001b[0m in \u001b[0;36m<module>\u001b[0;34m()\u001b[0m\n\u001b[0;32m----> 1\u001b[0;31m \u001b[0mfunc2\u001b[0m\u001b[0;34m(\u001b[0m\u001b[0;34m)\u001b[0m\u001b[0;34m\u001b[0m\u001b[0m\n\u001b[0m",
      "\u001b[0;32m<ipython-input-149-5ffe43a1579b>\u001b[0m in \u001b[0;36mfunc2\u001b[0;34m()\u001b[0m\n\u001b[1;32m      1\u001b[0m \u001b[0;32mdef\u001b[0m \u001b[0mfunc2\u001b[0m\u001b[0;34m(\u001b[0m\u001b[0;34m)\u001b[0m\u001b[0;34m:\u001b[0m\u001b[0;34m\u001b[0m\u001b[0m\n\u001b[1;32m      2\u001b[0m     \u001b[0mprint\u001b[0m\u001b[0;34m(\u001b[0m\u001b[0;34m'ddswersdfxc'\u001b[0m\u001b[0;34m)\u001b[0m\u001b[0;34m\u001b[0m\u001b[0m\n\u001b[0;32m----> 3\u001b[0;31m     \u001b[0mfunc1\u001b[0m\u001b[0;34m(\u001b[0m\u001b[0;34m)\u001b[0m\u001b[0;34m\u001b[0m\u001b[0m\n\u001b[0m\u001b[1;32m      4\u001b[0m     \u001b[0mprint\u001b[0m\u001b[0;34m(\u001b[0m\u001b[0mE\u001b[0m\u001b[0;34m.\u001b[0m\u001b[0mwith_traceback\u001b[0m\u001b[0;34m(\u001b[0m\u001b[0;32mNone\u001b[0m\u001b[0;34m)\u001b[0m\u001b[0;34m)\u001b[0m\u001b[0;34m\u001b[0m\u001b[0m\n",
      "\u001b[0;32m<ipython-input-134-a8543b154bc3>\u001b[0m in \u001b[0;36mfunc1\u001b[0;34m()\u001b[0m\n\u001b[1;32m      2\u001b[0m     \u001b[0mprint\u001b[0m\u001b[0;34m(\u001b[0m\u001b[0;34m'ddffffff'\u001b[0m\u001b[0;34m)\u001b[0m\u001b[0;34m\u001b[0m\u001b[0m\n\u001b[1;32m      3\u001b[0m     \u001b[0mE\u001b[0m \u001b[0;34m=\u001b[0m \u001b[0mException\u001b[0m\u001b[0;34m(\u001b[0m\u001b[0;34m'gogogogo'\u001b[0m\u001b[0;34m)\u001b[0m\u001b[0;34m\u001b[0m\u001b[0m\n\u001b[0;32m----> 4\u001b[0;31m     \u001b[0;32mraise\u001b[0m \u001b[0mE\u001b[0m\u001b[0;34m\u001b[0m\u001b[0m\n\u001b[0m",
      "\u001b[0;31mException\u001b[0m: gogogogo"
     ]
    }
   ],
   "source": [
    "func2()"
   ]
  },
  {
   "cell_type": "code",
   "execution_count": 119,
   "metadata": {
    "ExecuteTime": {
     "end_time": "2018-01-08T11:28:34.661410",
     "start_time": "2018-01-08T11:28:34.655953"
    },
    "collapsed": false
   },
   "outputs": [],
   "source": [
    "E = Exception('gogogogo')"
   ]
  },
  {
   "cell_type": "code",
   "execution_count": 120,
   "metadata": {
    "ExecuteTime": {
     "end_time": "2018-01-08T11:28:40.817037",
     "start_time": "2018-01-08T11:28:40.809938"
    },
    "collapsed": false
   },
   "outputs": [
    {
     "ename": "TypeError",
     "evalue": "with_traceback() takes exactly one argument (0 given)",
     "output_type": "error",
     "traceback": [
      "\u001b[0;31m---------------------------------------------------------------------------\u001b[0m",
      "\u001b[0;31mTypeError\u001b[0m                                 Traceback (most recent call last)",
      "\u001b[0;32m<ipython-input-120-ea38a1a2c4b5>\u001b[0m in \u001b[0;36m<module>\u001b[0;34m()\u001b[0m\n\u001b[0;32m----> 1\u001b[0;31m \u001b[0mE\u001b[0m\u001b[0;34m.\u001b[0m\u001b[0mwith_traceback\u001b[0m\u001b[0;34m(\u001b[0m\u001b[0;34m)\u001b[0m\u001b[0;34m\u001b[0m\u001b[0m\n\u001b[0m",
      "\u001b[0;31mTypeError\u001b[0m: with_traceback() takes exactly one argument (0 given)"
     ]
    }
   ],
   "source": [
    "E.with_traceback()"
   ]
  },
  {
   "cell_type": "markdown",
   "metadata": {},
   "source": [
    "## response Type"
   ]
  },
  {
   "cell_type": "code",
   "execution_count": 157,
   "metadata": {
    "ExecuteTime": {
     "end_time": "2018-01-08T12:09:27.125234",
     "start_time": "2018-01-08T12:09:27.122477"
    },
    "collapsed": true
   },
   "outputs": [],
   "source": [
    "S = [{'data': {'currencyId': 4, 'createTime': 1513077206000, 'hold': '0.05', 'modifyTime': 1515383819417, 'userId': 6803659, 'withdrawLimit': '-1', 'available': '3.1982'}, 'quote': 'eth', 'binary': 1, 'type': 'balance', 'product': 'spot', 'base': 'etc'}]"
   ]
  },
  {
   "cell_type": "code",
   "execution_count": 158,
   "metadata": {
    "ExecuteTime": {
     "end_time": "2018-01-08T12:10:07.670500",
     "start_time": "2018-01-08T12:10:07.663219"
    },
    "collapsed": true
   },
   "outputs": [],
   "source": [
    "T = [{'data': {'price': '0.03103856', 'quoteSize': '0.00000000', 'createTime': 1515383819408, 'id': 10065289, 'orderType': 0, 'modifyTime': 1515383819408, 'size': '0.05000000', 'side': 2, 'source': 0, 'filledSize': '0.00000000', 'status': 0, 'userId': 6803659, 'executedValue': '0.00000000'}, 'quote': 'eth', 'binary': 1, 'type': 'order', 'product': 'spot', 'base': 'etc'}]\n"
   ]
  },
  {
   "cell_type": "code",
   "execution_count": 159,
   "metadata": {
    "ExecuteTime": {
     "end_time": "2018-01-08T12:13:11.130012",
     "start_time": "2018-01-08T12:13:11.126590"
    },
    "collapsed": false
   },
   "outputs": [
    {
     "data": {
      "text/plain": [
       "[{'base': 'etc',\n",
       "  'binary': 1,\n",
       "  'data': {'available': '3.1982',\n",
       "   'createTime': 1513077206000,\n",
       "   'currencyId': 4,\n",
       "   'hold': '0.05',\n",
       "   'modifyTime': 1515383819417,\n",
       "   'userId': 6803659,\n",
       "   'withdrawLimit': '-1'},\n",
       "  'product': 'spot',\n",
       "  'quote': 'eth',\n",
       "  'type': 'balance'}]"
      ]
     },
     "execution_count": 159,
     "metadata": {},
     "output_type": "execute_result"
    }
   ],
   "source": [
    "S"
   ]
  },
  {
   "cell_type": "code",
   "execution_count": 160,
   "metadata": {
    "ExecuteTime": {
     "end_time": "2018-01-08T12:13:15.211397",
     "start_time": "2018-01-08T12:13:15.207913"
    },
    "collapsed": false
   },
   "outputs": [
    {
     "data": {
      "text/plain": [
       "[{'base': 'etc',\n",
       "  'binary': 1,\n",
       "  'data': {'createTime': 1515383819408,\n",
       "   'executedValue': '0.00000000',\n",
       "   'filledSize': '0.00000000',\n",
       "   'id': 10065289,\n",
       "   'modifyTime': 1515383819408,\n",
       "   'orderType': 0,\n",
       "   'price': '0.03103856',\n",
       "   'quoteSize': '0.00000000',\n",
       "   'side': 2,\n",
       "   'size': '0.05000000',\n",
       "   'source': 0,\n",
       "   'status': 0,\n",
       "   'userId': 6803659},\n",
       "  'product': 'spot',\n",
       "  'quote': 'eth',\n",
       "  'type': 'order'}]"
      ]
     },
     "execution_count": 160,
     "metadata": {},
     "output_type": "execute_result"
    }
   ],
   "source": [
    "T"
   ]
  },
  {
   "cell_type": "code",
   "execution_count": 165,
   "metadata": {
    "ExecuteTime": {
     "end_time": "2018-01-08T12:32:16.114970",
     "start_time": "2018-01-08T12:32:16.111905"
    },
    "collapsed": false
   },
   "outputs": [
    {
     "data": {
      "text/plain": [
       "False"
      ]
     },
     "execution_count": 165,
     "metadata": {},
     "output_type": "execute_result"
    }
   ],
   "source": [
    "None == 'ddfdfdf'"
   ]
  },
  {
   "cell_type": "code",
   "execution_count": 166,
   "metadata": {
    "ExecuteTime": {
     "end_time": "2018-01-08T12:32:21.717315",
     "start_time": "2018-01-08T12:32:21.714233"
    },
    "collapsed": false,
    "scrolled": true
   },
   "outputs": [
    {
     "data": {
      "text/plain": [
       "True"
      ]
     },
     "execution_count": 166,
     "metadata": {},
     "output_type": "execute_result"
    }
   ],
   "source": [
    "None == None"
   ]
  },
  {
   "cell_type": "code",
   "execution_count": 263,
   "metadata": {
    "ExecuteTime": {
     "end_time": "2018-01-08T13:16:41.887528",
     "start_time": "2018-01-08T13:16:41.879950"
    },
    "collapsed": false
   },
   "outputs": [
    {
     "data": {
      "text/plain": [
       "0.197859957644"
      ]
     },
     "execution_count": 263,
     "metadata": {},
     "output_type": "execute_result"
    }
   ],
   "source": [
    "3.29820000*0.03073242+0.09649829"
   ]
  },
  {
   "cell_type": "code",
   "execution_count": 2,
   "metadata": {
    "ExecuteTime": {
     "end_time": "2018-01-08T21:42:35.962606",
     "start_time": "2018-01-08T21:42:35.959677"
    },
    "collapsed": false
   },
   "outputs": [
    {
     "data": {
      "text/plain": [
       "125.0"
      ]
     },
     "execution_count": 2,
     "metadata": {},
     "output_type": "execute_result"
    }
   ],
   "source": [
    "250000*0.0005"
   ]
  },
  {
   "cell_type": "code",
   "execution_count": 21,
   "metadata": {
    "ExecuteTime": {
     "end_time": "2018-01-08T22:16:29.271201",
     "start_time": "2018-01-08T22:16:29.262103"
    },
    "collapsed": false
   },
   "outputs": [
    {
     "data": {
      "text/plain": [
       "0.03026071"
      ]
     },
     "execution_count": 21,
     "metadata": {},
     "output_type": "execute_result"
    }
   ],
   "source": [
    "round(6.28765675*0.03029100*0.999/6.28765675,8)"
   ]
  },
  {
   "cell_type": "code",
   "execution_count": null,
   "metadata": {
    "collapsed": true
   },
   "outputs": [],
   "source": [
    "def limit_oder()"
   ]
  },
  {
   "cell_type": "code",
   "execution_count": 39,
   "metadata": {
    "ExecuteTime": {
     "end_time": "2018-01-09T12:31:05.149344",
     "start_time": "2018-01-09T12:31:05.141217"
    },
    "collapsed": false
   },
   "outputs": [
    {
     "data": {
      "text/plain": [
       "2041.65728414736"
      ]
     },
     "execution_count": 39,
     "metadata": {},
     "output_type": "execute_result"
    }
   ],
   "source": [
    "0.2372254699*1304*6.6"
   ]
  },
  {
   "cell_type": "code",
   "execution_count": 56,
   "metadata": {
    "ExecuteTime": {
     "end_time": "2018-01-09T14:40:24.198793",
     "start_time": "2018-01-09T14:40:24.195807"
    },
    "collapsed": true
   },
   "outputs": [],
   "source": [
    "import logging"
   ]
  },
  {
   "cell_type": "code",
   "execution_count": 57,
   "metadata": {
    "ExecuteTime": {
     "end_time": "2018-01-09T14:41:11.662182",
     "start_time": "2018-01-09T14:41:11.658831"
    },
    "collapsed": true
   },
   "outputs": [],
   "source": [
    "logger = logging.getLogger(__name__)"
   ]
  },
  {
   "cell_type": "code",
   "execution_count": 73,
   "metadata": {
    "ExecuteTime": {
     "end_time": "2018-01-09T14:45:16.505482",
     "start_time": "2018-01-09T14:45:16.502442"
    },
    "collapsed": false
   },
   "outputs": [
    {
     "name": "stderr",
     "output_type": "stream",
     "text": [
      "NoneType\n"
     ]
    }
   ],
   "source": [
    "import traceback  \n",
    "traceback.print_exc()  \n"
   ]
  },
  {
   "cell_type": "code",
   "execution_count": 84,
   "metadata": {
    "ExecuteTime": {
     "end_time": "2018-01-09T14:50:57.553749",
     "start_time": "2018-01-09T14:50:57.546070"
    },
    "collapsed": false
   },
   "outputs": [],
   "source": [
    "def apple():\n",
    "    try:\n",
    "        int(None)\n",
    "    except Exception as e:\n",
    "        logging.exception(e)"
   ]
  },
  {
   "cell_type": "code",
   "execution_count": 78,
   "metadata": {
    "ExecuteTime": {
     "end_time": "2018-01-09T14:48:04.015083",
     "start_time": "2018-01-09T14:48:04.011307"
    },
    "collapsed": false
   },
   "outputs": [
    {
     "name": "stderr",
     "output_type": "stream",
     "text": [
      "Traceback (most recent call last):\n",
      "  File \"<ipython-input-77-41f2943a9f25>\", line 3, in apple\n",
      "    int(None)\n",
      "TypeError: int() argument must be a string, a bytes-like object or a number, not 'NoneType'\n"
     ]
    }
   ],
   "source": [
    "apple()"
   ]
  },
  {
   "cell_type": "code",
   "execution_count": 83,
   "metadata": {
    "ExecuteTime": {
     "end_time": "2018-01-09T14:50:44.630997",
     "start_time": "2018-01-09T14:50:44.626682"
    },
    "collapsed": false,
    "scrolled": true
   },
   "outputs": [
    {
     "name": "stderr",
     "output_type": "stream",
     "text": [
      "ERROR:root:int() argument must be a string, a bytes-like object or a number, not 'NoneType'\n",
      "Traceback (most recent call last):\n",
      "  File \"<ipython-input-83-977a668e6442>\", line 2, in <module>\n",
      "    int(None)\n",
      "TypeError: int() argument must be a string, a bytes-like object or a number, not 'NoneType'\n"
     ]
    }
   ],
   "source": [
    "try:\n",
    "    int(None)\n",
    "except Exception as e:\n",
    "    logging.exception(e)  \n",
    "    #print(e.with_traceback())"
   ]
  },
  {
   "cell_type": "code",
   "execution_count": 91,
   "metadata": {
    "ExecuteTime": {
     "end_time": "2018-01-09T14:51:38.453215",
     "start_time": "2018-01-09T14:51:38.447978"
    },
    "collapsed": true
   },
   "outputs": [],
   "source": [
    "def boy():\n",
    "    print('fddddddddddddd')\n",
    "    apple()"
   ]
  },
  {
   "cell_type": "code",
   "execution_count": 92,
   "metadata": {
    "ExecuteTime": {
     "end_time": "2018-01-09T14:51:38.813040",
     "start_time": "2018-01-09T14:51:38.809158"
    },
    "collapsed": true
   },
   "outputs": [],
   "source": [
    "def cat():\n",
    "    boy()"
   ]
  },
  {
   "cell_type": "code",
   "execution_count": 1,
   "metadata": {
    "ExecuteTime": {
     "end_time": "2018-01-09T17:20:08.899706",
     "start_time": "2018-01-09T17:20:08.789151"
    },
    "collapsed": false
   },
   "outputs": [
    {
     "name": "stdout",
     "output_type": "stream",
     "text": [
      "\u001b[0m\u001b[01;34mAPI_Docs.wiki\u001b[0m/      monkey_patch.py      test_v.py        ws4pydepth.py\r\n",
      "api_request.ipynb   order.log            trade.py         wss.ipynb\r\n",
      "dns.py              oriori_websocket.py  Untitled1.ipynb  \u001b[01;34mWWWebsocket\u001b[0m/\r\n",
      "dsdsds              ori_websocket.py     Untitled.ipynb\r\n",
      "gevent.depth.ipynb  req_slow.py          \u001b[01;34muser_dir\u001b[0m/\r\n",
      "Marketdepth.py      syncdepth.py         user_info.py\r\n"
     ]
    }
   ],
   "source": [
    "ls"
   ]
  },
  {
   "cell_type": "code",
   "execution_count": 19,
   "metadata": {
    "ExecuteTime": {
     "end_time": "2018-01-10T09:50:59.274910",
     "start_time": "2018-01-10T09:50:59.269343"
    },
    "collapsed": false
   },
   "outputs": [],
   "source": [
    "a = round(6.23519638*0.03057683,8)"
   ]
  },
  {
   "cell_type": "code",
   "execution_count": 23,
   "metadata": {
    "ExecuteTime": {
     "end_time": "2018-01-10T09:51:52.534558",
     "start_time": "2018-01-10T09:51:52.530847"
    },
    "collapsed": false
   },
   "outputs": [
    {
     "data": {
      "text/plain": [
       "0.030546253620964543"
      ]
     },
     "execution_count": 23,
     "metadata": {},
     "output_type": "execute_result"
    }
   ],
   "source": [
    "(round(a - round(0.001*a,8),8))/6.23519638"
   ]
  },
  {
   "cell_type": "code",
   "execution_count": 24,
   "metadata": {
    "ExecuteTime": {
     "end_time": "2018-01-10T09:59:42.957009",
     "start_time": "2018-01-10T09:59:42.948918"
    },
    "collapsed": false
   },
   "outputs": [
    {
     "data": {
      "text/plain": [
       "0.19065253972787538"
      ]
     },
     "execution_count": 24,
     "metadata": {},
     "output_type": "execute_result"
    }
   ],
   "source": [
    "6.23519638*0.03057683/()"
   ]
  },
  {
   "cell_type": "code",
   "execution_count": 25,
   "metadata": {
    "ExecuteTime": {
     "end_time": "2018-01-10T10:00:27.925026",
     "start_time": "2018-01-10T10:00:27.921962"
    },
    "collapsed": false
   },
   "outputs": [
    {
     "data": {
      "text/plain": [
       "0.03054628371628372"
      ]
     },
     "execution_count": 25,
     "metadata": {},
     "output_type": "execute_result"
    }
   ],
   "source": [
    "0.03057683/1.001"
   ]
  },
  {
   "cell_type": "code",
   "execution_count": null,
   "metadata": {
    "collapsed": true
   },
   "outputs": [],
   "source": [
    "10.05:    ETC  :  0.02810101 ETH :0.17466220"
   ]
  },
  {
   "cell_type": "code",
   "execution_count": null,
   "metadata": {
    "collapsed": true
   },
   "outputs": [],
   "source": [
    "10.01  0.00623561 "
   ]
  },
  {
   "cell_type": "code",
   "execution_count": null,
   "metadata": {
    "collapsed": true
   },
   "outputs": [],
   "source": [
    "委托数量(ETC)\t委托价格(ETH)\t委托金额(ETH)\t成交数量(ETC)\t平均成交价(ETH)\n",
    "6.13184631\t0.02848444\t0.17466221\t6.13184631\t0.02848443\t"
   ]
  },
  {
   "cell_type": "code",
   "execution_count": 26,
   "metadata": {
    "ExecuteTime": {
     "end_time": "2018-01-10T10:35:58.273986",
     "start_time": "2018-01-10T10:35:58.263195"
    },
    "collapsed": false
   },
   "outputs": [
    {
     "data": {
      "text/plain": [
       "0.1746622083064164"
      ]
     },
     "execution_count": 26,
     "metadata": {},
     "output_type": "execute_result"
    }
   ],
   "source": [
    "6.13184631*0.02848444"
   ]
  },
  {
   "cell_type": "code",
   "execution_count": 27,
   "metadata": {
    "ExecuteTime": {
     "end_time": "2018-01-10T10:36:36.312932",
     "start_time": "2018-01-10T10:36:36.305057"
    },
    "collapsed": false
   },
   "outputs": [
    {
     "data": {
      "text/plain": [
       "6.13808192"
      ]
     },
     "execution_count": 27,
     "metadata": {},
     "output_type": "execute_result"
    }
   ],
   "source": [
    "6.13184631+0.00623561"
   ]
  },
  {
   "cell_type": "code",
   "execution_count": 29,
   "metadata": {
    "ExecuteTime": {
     "end_time": "2018-01-10T10:38:40.968351",
     "start_time": "2018-01-10T10:38:40.964589"
    },
    "collapsed": false
   },
   "outputs": [
    {
     "data": {
      "text/plain": [
       "6.131846369456448"
      ]
     },
     "execution_count": 29,
     "metadata": {},
     "output_type": "execute_result"
    }
   ],
   "source": [
    "0.17466221/0.02848444"
   ]
  },
  {
   "cell_type": "code",
   "execution_count": 30,
   "metadata": {
    "ExecuteTime": {
     "end_time": "2018-01-10T10:39:55.555271",
     "start_time": "2018-01-10T10:39:55.543935"
    },
    "collapsed": false
   },
   "outputs": [
    {
     "data": {
      "text/plain": [
       "1.0000003510689874"
      ]
     },
     "execution_count": 30,
     "metadata": {},
     "output_type": "execute_result"
    }
   ],
   "source": [
    "0.02848444/0.02848443"
   ]
  }
 ],
 "metadata": {
  "kernelspec": {
   "display_name": "Python 3",
   "language": "python",
   "name": "python3"
  },
  "language_info": {
   "codemirror_mode": {
    "name": "ipython",
    "version": 3
   },
   "file_extension": ".py",
   "mimetype": "text/x-python",
   "name": "python",
   "nbconvert_exporter": "python",
   "pygments_lexer": "ipython3",
   "version": "3.5.2"
  },
  "toc": {
   "colors": {
    "hover_highlight": "#DAA520",
    "running_highlight": "#FF0000",
    "selected_highlight": "#FFD700"
   },
   "moveMenuLeft": true,
   "nav_menu": {
    "height": "12px",
    "width": "252px"
   },
   "navigate_menu": true,
   "number_sections": true,
   "sideBar": true,
   "threshold": 4,
   "toc_cell": false,
   "toc_section_display": "block",
   "toc_window_display": false
  }
 },
 "nbformat": 4,
 "nbformat_minor": 2
}
