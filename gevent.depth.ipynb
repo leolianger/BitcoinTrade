{
 "cells": [
  {
   "cell_type": "code",
   "execution_count": 4,
   "metadata": {
    "ExecuteTime": {
     "end_time": "2018-01-06T12:27:33.651094",
     "start_time": "2018-01-06T12:27:28.245740"
    },
    "collapsed": false
   },
   "outputs": [],
   "source": [
    "import gevent\n",
    "from ws4py.client.geventclient import WebSocketClient\n",
    "ws = WebSocketClient('wss://real.okex.com:10441/websocket')\n",
    "ws.connect()"
   ]
  },
  {
   "cell_type": "code",
   "execution_count": 6,
   "metadata": {
    "ExecuteTime": {
     "end_time": "2018-01-06T12:39:48.023432",
     "start_time": "2018-01-06T12:39:48.019833"
    },
    "collapsed": true
   },
   "outputs": [],
   "source": [
    "S='[{\"binary\":0,\"channel\":\"ok_sub_spot_etc_btc_depth_5\",\"data\":{\"asks\":[[\"0.00194511\",\"0.15\"],[\"0.00194501\",\"0.21\"],[\"0.00194491\",\"0.21\"],[\"0.00194481\",\"0.11\"],[\"0.00194413\",\"121.19\"]],\"bids\":[[\"0.00194412\",\"257.15563687\"],[\"0.00194411\",\"0.01\"],[\"0.00194401\",\"0.01\"],[\"0.00194391\",\"0.01\"],[\"0.00194381\",\"0.01\"]],\"timestamp\":1515213556782}}]'"
   ]
  },
  {
   "cell_type": "code",
   "execution_count": 18,
   "metadata": {
    "ExecuteTime": {
     "end_time": "2018-01-06T12:41:36.318823",
     "start_time": "2018-01-06T12:41:36.305314"
    },
    "collapsed": false
   },
   "outputs": [
    {
     "data": {
      "text/plain": [
       "['0.00194412', '257.15563687']"
      ]
     },
     "execution_count": 18,
     "metadata": {},
     "output_type": "execute_result"
    }
   ],
   "source": [
    "import json\n",
    "json.loads(S)[0]['data']['bids'][0]"
   ]
  },
  {
   "cell_type": "code",
   "execution_count": 19,
   "metadata": {
    "ExecuteTime": {
     "end_time": "2018-01-06T13:03:52.682185",
     "start_time": "2018-01-06T13:03:52.676971"
    },
    "collapsed": true
   },
   "outputs": [],
   "source": [
    "import time"
   ]
  },
  {
   "cell_type": "code",
   "execution_count": 63,
   "metadata": {
    "ExecuteTime": {
     "end_time": "2018-01-06T13:06:07.052349",
     "start_time": "2018-01-06T13:06:07.043409"
    },
    "collapsed": false
   },
   "outputs": [
    {
     "data": {
      "text/plain": [
       "1515215167047"
      ]
     },
     "execution_count": 63,
     "metadata": {},
     "output_type": "execute_result"
    }
   ],
   "source": [
    "int(time.time()*1000)"
   ]
  },
  {
   "cell_type": "code",
   "execution_count": 24,
   "metadata": {
    "ExecuteTime": {
     "end_time": "2018-01-06T13:04:58.543080",
     "start_time": "2018-01-06T13:04:58.535266"
    },
    "collapsed": false
   },
   "outputs": [
    {
     "data": {
      "text/plain": [
       "1515215037901.2827"
      ]
     },
     "execution_count": 24,
     "metadata": {},
     "output_type": "execute_result"
    }
   ],
   "source": [
    "1515215037.9012828*1000"
   ]
  },
  {
   "cell_type": "code",
   "execution_count": 57,
   "metadata": {
    "ExecuteTime": {
     "end_time": "2018-01-06T13:05:36.859580",
     "start_time": "2018-01-06T13:05:36.844746"
    },
    "collapsed": false
   },
   "outputs": [
    {
     "data": {
      "text/plain": [
       "'Wed Apr  3 19:50:26 49985'"
      ]
     },
     "execution_count": 57,
     "metadata": {},
     "output_type": "execute_result"
    }
   ],
   "source": [
    "time.ctime(1515215073026)"
   ]
  },
  {
   "cell_type": "code",
   "execution_count": 33,
   "metadata": {
    "ExecuteTime": {
     "end_time": "2018-01-06T14:48:11.908581",
     "start_time": "2018-01-06T14:48:11.903475"
    },
    "collapsed": false
   },
   "outputs": [
    {
     "data": {
      "text/plain": [
       "6"
      ]
     },
     "execution_count": 33,
     "metadata": {},
     "output_type": "execute_result"
    }
   ],
   "source": [
    "1515215073026%10"
   ]
  },
  {
   "cell_type": "code",
   "execution_count": 1,
   "metadata": {
    "ExecuteTime": {
     "end_time": "2018-01-06T14:56:58.476804",
     "start_time": "2018-01-06T14:56:44.755083"
    },
    "collapsed": false
   },
   "outputs": [
    {
     "name": "stderr",
     "output_type": "stream",
     "text": [
      "error from callback <function on_message at 0x7f6f84192f28>: 'timestamp'\n"
     ]
    },
    {
     "name": "stdout",
     "output_type": "stream",
     "text": [
      "eth_btc_depth_5;eth_btc_depth_5;eth_btc_depth_5;eth_btc_depth_5;eth_btc_depth_5;eth_btc_depth_5;eth_btc_depth_5;eth_btc_depth_5;eth_btc_depth_5;eth_btc_depth_5;pong! b''\n",
      "eth_btc_depth_5;eth_btc_depth_5;eth_btc_depth_5;eth_btc_depth_5;eth_btc_depth_5;eth_btc_depth_5;eth_btc_depth_5;eth_btc_depth_5;eth_btc_depth_5;eth_btc_depth_5;eth_btc_depth_5;eth_btc_depth_5;\n",
      "### closed ###\n"
     ]
    },
    {
     "name": "stderr",
     "output_type": "stream",
     "text": [
      "error from callback <function on_message at 0x7f6f84192f28>: 'timestamp'\n"
     ]
    },
    {
     "name": "stdout",
     "output_type": "stream",
     "text": [
      "etc_btc_depth_5;etc_btc_depth_5;etc_btc_depth_5;etc_btc_depth_5;etc_btc_depth_5;etc_btc_depth_5;etc_btc_depth_5;etc_btc_depth_5;etc_btc_depth_5;etc_btc_depth_5;etc_btc_depth_5;etc_btc_depth_5;etc_btc_depth_5;etc_btc_depth_5;pong! b''\n",
      "etc_btc_depth_5;etc_btc_depth_5;etc_btc_depth_5;etc_btc_depth_5;etc_btc_depth_5;etc_btc_depth_5;etc_btc_depth_5;etc_btc_depth_5;etc_btc_depth_5;etc_btc_depth_5;"
     ]
    },
    {
     "name": "stderr",
     "output_type": "stream",
     "text": [
      "close status: 23419\n"
     ]
    },
    {
     "name": "stdout",
     "output_type": "stream",
     "text": [
      "\n",
      "### closed ###\n"
     ]
    },
    {
     "data": {
      "text/plain": [
       "[<Greenlet at 0x7f6f84160898>, <Greenlet at 0x7f6f84160e88>]"
      ]
     },
     "execution_count": 1,
     "metadata": {},
     "output_type": "execute_result"
    }
   ],
   "source": [
    "import websocket\n",
    "import time\n",
    "import json\n",
    "last = 0\n",
    "def on_message(ws, message):\n",
    "    string = json.loads(message)\n",
    "    ts = string[0]['data']['timestamp']\n",
    "    bids1 = string[0]['data']['bids'][0][0]\n",
    "    asks1 = string[0]['data']['asks'][0][0]\n",
    "    now = int(time.time()*1000)\n",
    "\n",
    "    #print(ts,now-int(ts),now-last,string[0]['channel'][12:],'bids1:',bids1,'asks1',asks1)\n",
    "    print(string[0]['channel'][12:],end=';')\n",
    "    #last = now\n",
    "\n",
    "def on_error(ws, error):\n",
    "    print(error)\n",
    "\n",
    "def on_close(ws):\n",
    "    print(\"### closed ###\")\n",
    "\n",
    "def on_open(ws):\n",
    "    def run(*args):\n",
    "        for i in range(1):\n",
    "            time.sleep(1)\n",
    "            ws.send(\"{'event':'addChannel','channel':'ok_sub_spot_etc_btc_depth_5'}\")\n",
    "        #time.sleep(1)\n",
    "        #ws.close()\n",
    "        #print(\"thread terminating...\")\n",
    "    #thread.start_new_thread(run, ())\n",
    "    run()\n",
    "def on_ping(ws,ping):\n",
    "    print('ping!',pong)\n",
    "def on_pong(ws,pong):\n",
    "    print('pong!',pong)\n",
    "\n",
    "def on_open2(ws):\n",
    "    def run(*args):\n",
    "        for i in range(1):\n",
    "            time.sleep(1)\n",
    "            ws.send(\"{'event':'addChannel','channel':'ok_sub_spot_eth_btc_depth_5'}\")\n",
    "        #time.sleep(1)\n",
    "        #ws.close()\n",
    "        #print(\"thread terminating...\")\n",
    "    #thread.start_new_thread(run, ())\n",
    "    run()\n",
    "\n",
    "if __name__ == \"__main__\":\n",
    "    #websocket.enableTrace(True)\n",
    "    ws = websocket.WebSocketApp(\"wss://real.okex.com:10441/websocket\",\n",
    "                              on_message = on_message,\n",
    "                              on_error = on_error,\n",
    "                              on_close = on_close,on_open = on_open,on_ping=on_ping,on_pong=on_pong)\n",
    "    #ws.on_open = on_open\n",
    "    ws2 = websocket.WebSocketApp(\"wss://real.okex.com:10441/websocket\",\n",
    "                              on_message = on_message,\n",
    "                              on_error = on_error,\n",
    "                              on_close = on_close,on_open = on_open2,on_ping=on_ping,on_pong=on_pong)\n",
    "    \n",
    "\n",
    "#from gevent import monkey; monkey.patch_all()\n",
    "\n",
    "def funcws1():\n",
    "    ws.run_forever(ping_interval=3)\n",
    "    gevent.sleep(0)\n",
    "def funcws2():\n",
    "    ws2.run_forever(ping_interval=3)\n",
    "    gevent.sleep(0)\n",
    "\n",
    "import gevent\n",
    "\n",
    "\n",
    "jobs = [gevent.spawn(funcws2),gevent.spawn(funcws1)]\n",
    "gevent.joinall(jobs, timeout=2)"
   ]
  },
  {
   "cell_type": "code",
   "execution_count": 16,
   "metadata": {
    "ExecuteTime": {
     "end_time": "2018-01-07T08:50:16.809095",
     "start_time": "2018-01-07T08:50:16.803852"
    },
    "collapsed": false
   },
   "outputs": [],
   "source": [
    "j0 = jobs[0]"
   ]
  },
  {
   "cell_type": "code",
   "execution_count": null,
   "metadata": {
    "collapsed": true
   },
   "outputs": [],
   "source": []
  },
  {
   "cell_type": "code",
   "execution_count": 36,
   "metadata": {
    "ExecuteTime": {
     "end_time": "2018-01-07T08:54:28.818217",
     "start_time": "2018-01-07T08:54:28.812567"
    },
    "collapsed": false
   },
   "outputs": [],
   "source": [
    "hub = gevent.get_hub()"
   ]
  },
  {
   "cell_type": "code",
   "execution_count": 55,
   "metadata": {
    "ExecuteTime": {
     "end_time": "2018-01-07T09:42:45.156336",
     "start_time": "2018-01-07T09:42:45.150987"
    },
    "collapsed": false
   },
   "outputs": [],
   "source": [
    "hub = gevent.get_hub()"
   ]
  },
  {
   "cell_type": "code",
   "execution_count": 59,
   "metadata": {
    "ExecuteTime": {
     "end_time": "2018-01-07T09:43:42.543422",
     "start_time": "2018-01-07T09:43:42.536417"
    },
    "collapsed": false
   },
   "outputs": [
    {
     "data": {
      "text/plain": [
       "<Greenlet at 0x7f6f84160898>"
      ]
     },
     "execution_count": 59,
     "metadata": {},
     "output_type": "execute_result"
    }
   ],
   "source": [
    "j0.join()"
   ]
  },
  {
   "cell_type": "code",
   "execution_count": 76,
   "metadata": {
    "ExecuteTime": {
     "end_time": "2018-01-07T10:23:39.007462",
     "start_time": "2018-01-07T10:23:39.001327"
    },
    "collapsed": false
   },
   "outputs": [],
   "source": [
    "l = [True,False,True,False,True,False]"
   ]
  },
  {
   "cell_type": "code",
   "execution_count": 80,
   "metadata": {
    "ExecuteTime": {
     "end_time": "2018-01-07T10:26:42.588803",
     "start_time": "2018-01-07T10:26:42.585587"
    },
    "collapsed": true
   },
   "outputs": [],
   "source": [
    "t_index = [i for i in range(len(jobs)) if l[i]]\n",
    "t_offset = list(range(len(t_index)))\n",
    "r_index = [x-y for x,y in zip(t_index,t_offset)]\n",
    "\n",
    "for i in r_index:\n",
    "    jobs.pop(i)"
   ]
  },
  {
   "cell_type": "code",
   "execution_count": 87,
   "metadata": {
    "ExecuteTime": {
     "end_time": "2018-01-07T10:28:42.094267",
     "start_time": "2018-01-07T10:28:42.084023"
    },
    "collapsed": false
   },
   "outputs": [
    {
     "data": {
      "text/plain": [
       "[False, False, False]"
      ]
     },
     "execution_count": 87,
     "metadata": {},
     "output_type": "execute_result"
    }
   ],
   "source": [
    "l"
   ]
  },
  {
   "cell_type": "code",
   "execution_count": 82,
   "metadata": {
    "ExecuteTime": {
     "end_time": "2018-01-07T10:26:43.641302",
     "start_time": "2018-01-07T10:26:43.629403"
    },
    "collapsed": false
   },
   "outputs": [
    {
     "data": {
      "text/plain": [
       "[0, 1, 2]"
      ]
     },
     "execution_count": 82,
     "metadata": {},
     "output_type": "execute_result"
    }
   ],
   "source": [
    "t_offset"
   ]
  },
  {
   "cell_type": "code",
   "execution_count": 74,
   "metadata": {
    "ExecuteTime": {
     "end_time": "2018-01-07T10:23:35.911783",
     "start_time": "2018-01-07T10:23:35.908003"
    },
    "collapsed": false
   },
   "outputs": [],
   "source": [
    "l."
   ]
  },
  {
   "cell_type": "code",
   "execution_count": 75,
   "metadata": {
    "ExecuteTime": {
     "end_time": "2018-01-07T10:23:37.327509",
     "start_time": "2018-01-07T10:23:37.319325"
    },
    "collapsed": false
   },
   "outputs": [
    {
     "data": {
      "text/plain": [
       "[]"
      ]
     },
     "execution_count": 75,
     "metadata": {},
     "output_type": "execute_result"
    }
   ],
   "source": [
    "l"
   ]
  },
  {
   "cell_type": "code",
   "execution_count": 67,
   "metadata": {
    "ExecuteTime": {
     "end_time": "2018-01-07T10:15:12.796471",
     "start_time": "2018-01-07T10:15:12.793804"
    },
    "collapsed": true
   },
   "outputs": [],
   "source": [
    "for i in l:\n",
    "    if i:\n",
    "        l.remove(True)"
   ]
  },
  {
   "cell_type": "code",
   "execution_count": 68,
   "metadata": {
    "ExecuteTime": {
     "end_time": "2018-01-07T10:15:13.335662",
     "start_time": "2018-01-07T10:15:13.332593"
    },
    "collapsed": false
   },
   "outputs": [
    {
     "data": {
      "text/plain": [
       "[False, False]"
      ]
     },
     "execution_count": 68,
     "metadata": {},
     "output_type": "execute_result"
    }
   ],
   "source": [
    "l.remove()"
   ]
  },
  {
   "cell_type": "code",
   "execution_count": 7,
   "metadata": {
    "ExecuteTime": {
     "end_time": "2018-01-06T14:57:22.379002",
     "start_time": "2018-01-06T14:57:22.271413"
    },
    "collapsed": false
   },
   "outputs": [
    {
     "ename": "WebSocketConnectionClosedException",
     "evalue": "Connection is already closed.",
     "output_type": "error",
     "traceback": [
      "\u001b[0;31m---------------------------------------------------------------------------\u001b[0m",
      "\u001b[0;31mWebSocketConnectionClosedException\u001b[0m        Traceback (most recent call last)",
      "\u001b[0;32m<ipython-input-7-a784ea5cde9b>\u001b[0m in \u001b[0;36m<module>\u001b[0;34m()\u001b[0m\n\u001b[0;32m----> 1\u001b[0;31m \u001b[0mws\u001b[0m\u001b[0;34m.\u001b[0m\u001b[0msend\u001b[0m\u001b[0;34m(\u001b[0m\u001b[0;34m\"{'event':'addChannel','channel':'ok_sub_spot_eth_btc_depth_5'}\"\u001b[0m\u001b[0;34m)\u001b[0m\u001b[0;34m\u001b[0m\u001b[0m\n\u001b[0m",
      "\u001b[0;32m/home/xu/venv/lib/python3.5/site-packages/websocket/_app.py\u001b[0m in \u001b[0;36msend\u001b[0;34m(self, data, opcode)\u001b[0m\n\u001b[1;32m    117\u001b[0m         \u001b[0;32mif\u001b[0m \u001b[0;32mnot\u001b[0m \u001b[0mself\u001b[0m\u001b[0;34m.\u001b[0m\u001b[0msock\u001b[0m \u001b[0;32mor\u001b[0m \u001b[0mself\u001b[0m\u001b[0;34m.\u001b[0m\u001b[0msock\u001b[0m\u001b[0;34m.\u001b[0m\u001b[0msend\u001b[0m\u001b[0;34m(\u001b[0m\u001b[0mdata\u001b[0m\u001b[0;34m,\u001b[0m \u001b[0mopcode\u001b[0m\u001b[0;34m)\u001b[0m \u001b[0;34m==\u001b[0m \u001b[0;36m0\u001b[0m\u001b[0;34m:\u001b[0m\u001b[0;34m\u001b[0m\u001b[0m\n\u001b[1;32m    118\u001b[0m             raise WebSocketConnectionClosedException(\n\u001b[0;32m--> 119\u001b[0;31m                 \"Connection is already closed.\")\n\u001b[0m\u001b[1;32m    120\u001b[0m \u001b[0;34m\u001b[0m\u001b[0m\n\u001b[1;32m    121\u001b[0m     \u001b[0;32mdef\u001b[0m \u001b[0mclose\u001b[0m\u001b[0;34m(\u001b[0m\u001b[0mself\u001b[0m\u001b[0;34m,\u001b[0m \u001b[0;34m**\u001b[0m\u001b[0mkwargs\u001b[0m\u001b[0;34m)\u001b[0m\u001b[0;34m:\u001b[0m\u001b[0;34m\u001b[0m\u001b[0m\n",
      "\u001b[0;31mWebSocketConnectionClosedException\u001b[0m: Connection is already closed."
     ]
    }
   ],
   "source": [
    "ws.send(\"{'event':'addChannel','channel':'ok_sub_spot_eth_btc_depth_5'}\")"
   ]
  }
 ],
 "metadata": {
  "kernelspec": {
   "display_name": "Python 3",
   "language": "python",
   "name": "python3"
  },
  "language_info": {
   "codemirror_mode": {
    "name": "ipython",
    "version": 3
   },
   "file_extension": ".py",
   "mimetype": "text/x-python",
   "name": "python",
   "nbconvert_exporter": "python",
   "pygments_lexer": "ipython3",
   "version": "3.5.2"
  },
  "toc": {
   "colors": {
    "hover_highlight": "#DAA520",
    "running_highlight": "#FF0000",
    "selected_highlight": "#FFD700"
   },
   "moveMenuLeft": true,
   "nav_menu": {
    "height": "12px",
    "width": "252px"
   },
   "navigate_menu": true,
   "number_sections": true,
   "sideBar": true,
   "threshold": 4,
   "toc_cell": false,
   "toc_section_display": "block",
   "toc_window_display": false
  }
 },
 "nbformat": 4,
 "nbformat_minor": 2
}
